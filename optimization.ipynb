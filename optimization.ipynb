{
 "cells": [
  {
   "cell_type": "code",
   "execution_count": 12,
   "metadata": {},
   "outputs": [],
   "source": [
    "import pandas as pd\n",
    "import matplotlib.pyplot as plt\n",
    "import numpy as np"
   ]
  },
  {
   "cell_type": "code",
   "execution_count": 13,
   "metadata": {},
   "outputs": [],
   "source": [
    "from PortfolioToolboxQP.PortfolioToolboxQP.Qp_Solver import qp_solver_cpp as solve"
   ]
  },
  {
   "cell_type": "markdown",
   "metadata": {},
   "source": [
    "Il faut remplir le code suivant avec ce qu'on a calculé dans les autres fichiers. Faut juste faire attention à ce qu'on est les mêmes colonnes pour tous sinon on va avoir des problèmes de dimensions."
   ]
  },
  {
   "cell_type": "code",
   "execution_count": 48,
   "metadata": {},
   "outputs": [
    {
     "name": "stdout",
     "output_type": "stream",
     "text": [
      "<class 'numpy.ndarray'>\n",
      "<class 'numpy.ndarray'>\n",
      "(1040, 1)\n",
      "(1040, 1)\n"
     ]
    }
   ],
   "source": [
    "sigma = np.load(\"data/cov_matrix_sigma.npy\")\n",
    "CI = pd.read_csv(\"data/filtered_CarbonIntensity.csv\")\n",
    "CI0 = CI[\"CI_Scope12_FY23\"].values.reshape(-1, 1)\n",
    "print(type(CI0))\n",
    "print(type(sigma))\n",
    "\n",
    "bench = (CI[\"Weight\"].values / CI[\"Weight\"].sum()).reshape(-1, 1)\n",
    "\n",
    "print(bench.shape)\n",
    "print(CI0.shape)\n",
    "R = 0.35  # reduction_rate cf net_zero_emissions for other values"
   ]
  },
  {
   "cell_type": "markdown",
   "metadata": {},
   "source": [
    "J'ai pris le problème le plus simple avec le moins de contrainte (min 1/2(x-b)Tsigma(x-b) avec comme contraintes la carbone intensity, et le bail C0 des long only constraints [x entre 0 et 1 et qui se somme à 1])"
   ]
  },
  {
   "cell_type": "code",
   "execution_count": 53,
   "metadata": {},
   "outputs": [
    {
     "name": "stderr",
     "output_type": "stream",
     "text": [
      "c:\\Users\\vahye\\Desktop\\ENSAE\\projet_finance\\net-zero-portfolio\\PortfolioToolboxQP\\PortfolioToolboxQP\\Qp_Solver.py:137: UserWarning: Warning : The p matrix in the QP problem was set to 0 as it was either empty or None -- Continuing optimization !\n",
      "  warnings.warn(\n",
      "c:\\Users\\vahye\\Desktop\\ENSAE\\projet_finance\\net-zero-portfolio\\PortfolioToolboxQP\\PortfolioToolboxQP\\Qp_Solver.py:189: UserWarning: Warning : b was reshaped as its shape was not of form (n,)\n",
      "  warnings.warn(\"Warning : b was reshaped as its shape was not of form (n,)\")\n",
      "c:\\Users\\vahye\\Desktop\\ENSAE\\projet_finance\\net-zero-portfolio\\PortfolioToolboxQP\\PortfolioToolboxQP\\Qp_Solver.py:202: UserWarning: Warning : h was reshaped as its shape was not of form (n,)\n",
      "  warnings.warn(\"Warning : h was reshaped as its shape was not of form (n,)\")\n"
     ]
    },
    {
     "name": "stdout",
     "output_type": "stream",
     "text": [
      "[[ 6.81916142e-04  9.48997129e-04  9.81156463e-04 ... -4.28907588e-03\n",
      "   8.31096169e-04  8.04096441e-04]\n",
      " [-8.11723952e-05  1.85908593e-04  2.18067926e-04 ... -5.05216442e-03\n",
      "   6.80076322e-05  4.10079046e-05]\n",
      " [-1.73056205e-04  9.40247833e-05  1.26184117e-04 ... -5.14404823e-03\n",
      "  -2.38761772e-05 -5.08759047e-05]\n",
      " ...\n",
      " [ 1.48847505e-02  1.51518315e-02  1.51839908e-02 ...  9.91375847e-03\n",
      "   1.50339305e-02  1.50069308e-02]\n",
      " [ 2.55687492e-04  5.22768480e-04  5.54927813e-04 ... -4.71530453e-03\n",
      "   4.04867519e-04  3.77867792e-04]\n",
      " [ 3.32829571e-04  5.99910558e-04  6.32069892e-04 ... -4.63816245e-03\n",
      "   4.82009598e-04  4.55009870e-04]]\n",
      "0.00019522722577655866\n"
     ]
    }
   ],
   "source": [
    "y = solve(\n",
    "    Q=sigma,\n",
    "    p=None,\n",
    "    G=np.diag(CI0[:,0]),\n",
    "    h=(1 - R) * CI0*bench - CI0*bench,\n",
    "    A= np.ones((bench.shape[0],1)).T,\n",
    "    b=-np.ones(bench.shape).T @ bench + 1,\n",
    "    lb= - bench,\n",
    "    ub=np.ones(bench.shape) - bench,\n",
    ")\n",
    "\n",
    "\"\"\" x is what we want : here the relative weights on the differents firms. The following Y is what we call \"x-b\". \n",
    " We have to add the benchmark at the end\n",
    "\n",
    "                            minimize 0.5*Y.T@Q@Y + p@Y under constraints AY = B and GY <= h and  lb <= Y <= ub\n",
    "    \n",
    "    all parameters are ndarray\n",
    "\n",
    "    Q: sigma for us\n",
    "    p: 0\n",
    "\n",
    "    CI*(X=Y+b) <= (1-R)CI_0*b donc CI*Y <= (1-R)*CI_0*b - CI*b\n",
    "    G: Matrix of inequalty constraints → CI\n",
    "    h: Vector of inequality constraints → -R*CI*b\n",
    "\n",
    "    1.T(Y+b)=1 donc 1TY = - 1Tb + 1\n",
    "    A: Matrix of equality constraints → 1T\n",
    "    b: Vector of equality constraints → -1Tb + 1\n",
    "    \n",
    "    lb: Lower bound for Y : for x : 0\n",
    "    ub: Upper bound for Y : for x : 1\n",
    "\n",
    "    return: optimal vector if found : Y=X-b\n",
    "    \"\"\"\n",
    "\n",
    "x = y + bench\n",
    "print(x)\n",
    "tracking_error = 0.5 * y.T @ sigma @ y\n",
    "print(tracking_error)"
   ]
  }
 ],
 "metadata": {
  "kernelspec": {
   "display_name": "venv-internship",
   "language": "python",
   "name": "python3"
  },
  "language_info": {
   "codemirror_mode": {
    "name": "ipython",
    "version": 3
   },
   "file_extension": ".py",
   "mimetype": "text/x-python",
   "name": "python",
   "nbconvert_exporter": "python",
   "pygments_lexer": "ipython3",
   "version": "3.12.2"
  }
 },
 "nbformat": 4,
 "nbformat_minor": 2
}
