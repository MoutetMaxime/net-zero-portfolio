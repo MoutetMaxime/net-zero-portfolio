{
 "cells": [
  {
   "cell_type": "code",
   "execution_count": 1,
   "metadata": {},
   "outputs": [],
   "source": [
    "import pandas as pd\n",
    "import matplotlib.pyplot as plt\n",
    "import numpy as np"
   ]
  },
  {
   "cell_type": "code",
   "execution_count": 10,
   "metadata": {},
   "outputs": [],
   "source": [
    "from PortfolioToolboxQP.PortfolioToolboxQP.Qp_Solver import qp_solver_cpp as solve"
   ]
  },
  {
   "cell_type": "markdown",
   "metadata": {},
   "source": [
    "Il faut remplir le code suivant avec ce qu'on a calculé dans les autres fichiers. Faut juste faire attention à ce qu'on est les mêmes colonnes pour tous sinon on va avoir des problèmes de dimensions."
   ]
  },
  {
   "cell_type": "code",
   "execution_count": null,
   "metadata": {},
   "outputs": [],
   "source": [
    "datamsci = pd.read_csv(\"data/DataMSCI.csv\", sep=\";\")\n",
    "weights = datamsci[[\"ISSUER_ISIN\", \"MarketCap_USD\"]]\n",
    "benchmark = weights #drop the missing columns\n",
    "benchmark[\"MarketCap_USD\"] = benchmark[\"MarketCap_USD\"] / benchmark[\"MarketCap_USD\"].sum()\n",
    "b = benchmark[\"MarketCap_USD\"].values"
   ]
  },
  {
   "cell_type": "code",
   "execution_count": null,
   "metadata": {},
   "outputs": [],
   "source": [
    "sigma = covariance\n",
    "CI = carbon_intensity\n",
    "CI0 = carbon intensity 2023\n",
    "R = 0.35 #reduction_rate cf net_zero_emissions for other values"
   ]
  },
  {
   "cell_type": "markdown",
   "metadata": {},
   "source": [
    "J'ai pris le problème le plus simple avec le moins de contrainte (min 1/2(x-b)Tsigma(x-b) avec comme contraintes la carbone intensity, et le bail C0 des long only constraints [x entre 0 et 1 et qui se somme à 1])"
   ]
  },
  {
   "cell_type": "code",
   "execution_count": null,
   "metadata": {},
   "outputs": [],
   "source": [
    "y = solve(Q=sigma, p=None, G=CI, h=(1-R)*CI0@b - CI@b, A=np.ones(b.shape).T, b=-np.ones(b.shape).T@b+1, lb=np.zeros(b.shape)-b, ub=np.ones(b.shape)-b)\n",
    "\n",
    "\"\"\" x is what we want : here the relative weights on the differents firms. The following Y is what we call \"x-b\". \n",
    " We have to add the benchmark at the end\n",
    "\n",
    "                            minimize 0.5*Y.T@Q@Y + p@Y under constraints AY = B and GY <= h and  lb <= Y <= ub\n",
    "    \n",
    "    all parameters are ndarray\n",
    "\n",
    "    Q: sigma for us\n",
    "    p: 0\n",
    "\n",
    "    CI*(X=Y+b) <= (1-R)CI_0*b donc CI*Y <= (1-R)*CI_0*b - CI*b\n",
    "    G: Matrix of inequalty constraints → CI\n",
    "    h: Vector of inequality constraints → -R*CI*b\n",
    "\n",
    "    1.T(Y+b)=1 donc 1TY = - 1Tb + 1\n",
    "    A: Matrix of equality constraints → 1T\n",
    "    b: Vector of equality constraints → -1Tb + 1\n",
    "    \n",
    "    lb: Lower bound for Y : for x : 0\n",
    "    ub: Upper bound for Y : for x : 1\n",
    "\n",
    "    return: optimal vector if found : Y=X-b\n",
    "    \"\"\"\n",
    "\n",
    "x = y+b \n",
    "print(x)\n",
    "plt.plot(np.linspace(1,len(x)),x)\n",
    "tracking_error = 0.5*y.T@sigma@y"
   ]
  }
 ],
 "metadata": {
  "kernelspec": {
   "display_name": "Python 3",
   "language": "python",
   "name": "python3"
  },
  "language_info": {
   "codemirror_mode": {
    "name": "ipython",
    "version": 3
   },
   "file_extension": ".py",
   "mimetype": "text/x-python",
   "name": "python",
   "nbconvert_exporter": "python",
   "pygments_lexer": "ipython3",
   "version": "3.10.0"
  }
 },
 "nbformat": 4,
 "nbformat_minor": 2
}
