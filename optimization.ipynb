{
 "cells": [
  {
   "cell_type": "code",
   "execution_count": 1,
   "metadata": {},
   "outputs": [],
   "source": [
    "import pandas as pd\n",
    "import matplotlib.pyplot as plt\n",
    "import numpy as np"
   ]
  },
  {
   "cell_type": "code",
   "execution_count": 10,
   "metadata": {},
   "outputs": [],
   "source": [
    "from PortfolioToolboxQP.PortfolioToolboxQP.Qp_Solver import qp_solver_cpp as solve"
   ]
  },
  {
   "cell_type": "code",
   "execution_count": null,
   "metadata": {},
   "outputs": [],
   "source": [
    "sigma = covariance\n",
    "b = benchmark\n",
    "CI = carbon_intensity\n",
    "R = reduction_rate\n",
    "\n",
    "solve(Q=sigma, p=None, G=CI, h=(2-R)*CI@b, A=np.ones(b.shape).T, b=b, lb=np.max(0.5*b,np.zeros(b.shape))-b, ub=np.min(2*b,np.ones(b.shape))-b)\n",
    " \"\"\" x is what we want : here the relative weights on the differents firms. The following Y is what we call \"x-b\". \n",
    " We have to add the benchmark at the end\n",
    "\n",
    "                            minimize 0.5*Y.T@Q@Y + p@Y under constraints AY = B and GY <= h and  lb <= Y <= ub\n",
    "    \n",
    "    all parameters are ndarray\n",
    "\n",
    "    Q: sigma for us\n",
    "    p: 0\n",
    "\n",
    "    CI*(X=Y-b) <= (1-R)CI*b donc CI*Y <= (2-R)*CI*b\n",
    "    G: Matrix of inequalty constraints → CI\n",
    "    h: Vector of inequality constraints → (2-R)*CI*b\n",
    "\n",
    "    1.T(Y-b)=1 donc 1TY = 1Tb + 1\n",
    "    A: Matrix of equality constraints → 1T\n",
    "    b: Vector of equality constraints → 1Tb + 1\n",
    "    \n",
    "    lb: Lower bound for Y : for x max(1/2 benchmark,0) \n",
    "    ub: Upper bound for Y : for x min(2 benchmark,1)\n",
    "\n",
    "    return: optimal vector if found : Y=X-b\n",
    "    \"\"\""
   ]
  }
 ],
 "metadata": {
  "kernelspec": {
   "display_name": "Python 3",
   "language": "python",
   "name": "python3"
  },
  "language_info": {
   "codemirror_mode": {
    "name": "ipython",
    "version": 3
   },
   "file_extension": ".py",
   "mimetype": "text/x-python",
   "name": "python",
   "nbconvert_exporter": "python",
   "pygments_lexer": "ipython3",
   "version": "3.10.0"
  }
 },
 "nbformat": 4,
 "nbformat_minor": 2
}
