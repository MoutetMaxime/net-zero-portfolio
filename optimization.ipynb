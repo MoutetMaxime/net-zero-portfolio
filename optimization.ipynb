{
 "cells": [
  {
   "cell_type": "code",
   "execution_count": 1,
   "metadata": {},
   "outputs": [],
   "source": [
    "import pandas as pd\n",
    "import matplotlib.pyplot as plt\n",
    "import numpy as np"
   ]
  },
  {
   "cell_type": "code",
   "execution_count": null,
   "metadata": {},
   "outputs": [
    {
     "ename": "ModuleNotFoundError",
     "evalue": "No module named 'PortfolioToolboxQP.Qp_Solver'",
     "output_type": "error",
     "traceback": [
      "\u001b[0;31m---------------------------------------------------------------------------\u001b[0m",
      "\u001b[0;31mModuleNotFoundError\u001b[0m                       Traceback (most recent call last)",
      "Cell \u001b[0;32mIn[4], line 1\u001b[0m\n\u001b[0;32m----> 1\u001b[0m \u001b[38;5;28;01mfrom\u001b[39;00m \u001b[38;5;21;01mPortfolioToolboxQP\u001b[39;00m\u001b[38;5;21;01m.\u001b[39;00m\u001b[38;5;21;01mQp_Solver\u001b[39;00m \u001b[38;5;28;01mimport\u001b[39;00m qp_solver_cpp \u001b[38;5;28;01mas\u001b[39;00m solve\n",
      "\u001b[0;31mModuleNotFoundError\u001b[0m: No module named 'PortfolioToolboxQP.Qp_Solver'"
     ]
    }
   ],
   "source": [
    "from PortfolioToolboxQP.PortfolioToolboxQP.Qp_Solver import qp_solver_cpp as solve"
   ]
  },
  {
   "cell_type": "markdown",
   "metadata": {},
   "source": [
    "Il faut remplir le code suivant avec ce qu'on a calculé dans les autres fichiers. Faut juste faire attention à ce qu'on est les mêmes colonnes pour tous sinon on va avoir des problèmes de dimensions."
   ]
  },
  {
   "cell_type": "code",
   "execution_count": 7,
   "metadata": {},
   "outputs": [],
   "source": [
    "sigma = np.load(\"data/cov_matrix_sigma.npy\")\n",
    "CI = pd.read_csv(\"data/filtered_CarbonIntensity.csv\")\n",
    "CI0 = CI[\"CI_Scope12_FY23\"]\n",
    "b = CI[\"Weight\"] / CI[\"Weight\"].sum()\n",
    "R = 0.35  # reduction_rate cf net_zero_emissions for other values"
   ]
  },
  {
   "cell_type": "markdown",
   "metadata": {},
   "source": [
    "J'ai pris le problème le plus simple avec le moins de contrainte (min 1/2(x-b)Tsigma(x-b) avec comme contraintes la carbone intensity, et le bail C0 des long only constraints [x entre 0 et 1 et qui se somme à 1])"
   ]
  },
  {
   "cell_type": "code",
   "execution_count": null,
   "metadata": {},
   "outputs": [],
   "source": [
    "y = solve(\n",
    "    Q=sigma,\n",
    "    p=None,\n",
    "    G=CI,\n",
    "    h=(1 - R) * CI0 @ b - CI0 @ b,\n",
    "    A=np.ones(b.shape).T,\n",
    "    b=-np.ones(b.shape).T @ b + 1,\n",
    "    lb=np.zeros(b.shape) - b,\n",
    "    ub=np.ones(b.shape) - b,\n",
    ")\n",
    "\n",
    "\"\"\" x is what we want : here the relative weights on the differents firms. The following Y is what we call \"x-b\". \n",
    " We have to add the benchmark at the end\n",
    "\n",
    "                            minimize 0.5*Y.T@Q@Y + p@Y under constraints AY = B and GY <= h and  lb <= Y <= ub\n",
    "    \n",
    "    all parameters are ndarray\n",
    "\n",
    "    Q: sigma for us\n",
    "    p: 0\n",
    "\n",
    "    CI*(X=Y+b) <= (1-R)CI_0*b donc CI*Y <= (1-R)*CI_0*b - CI*b\n",
    "    G: Matrix of inequalty constraints → CI\n",
    "    h: Vector of inequality constraints → -R*CI*b\n",
    "\n",
    "    1.T(Y+b)=1 donc 1TY = - 1Tb + 1\n",
    "    A: Matrix of equality constraints → 1T\n",
    "    b: Vector of equality constraints → -1Tb + 1\n",
    "    \n",
    "    lb: Lower bound for Y : for x : 0\n",
    "    ub: Upper bound for Y : for x : 1\n",
    "\n",
    "    return: optimal vector if found : Y=X-b\n",
    "    \"\"\"\n",
    "\n",
    "x = y + b\n",
    "print(x)\n",
    "plt.plot(np.linspace(1, len(x)), x)\n",
    "tracking_error = 0.5 * y.T @ sigma @ y"
   ]
  }
 ],
 "metadata": {
  "kernelspec": {
   "display_name": "venv-internship",
   "language": "python",
   "name": "python3"
  },
  "language_info": {
   "codemirror_mode": {
    "name": "ipython",
    "version": 3
   },
   "file_extension": ".py",
   "mimetype": "text/x-python",
   "name": "python",
   "nbconvert_exporter": "python",
   "pygments_lexer": "ipython3",
   "version": "3.12.2"
  }
 },
 "nbformat": 4,
 "nbformat_minor": 2
}
