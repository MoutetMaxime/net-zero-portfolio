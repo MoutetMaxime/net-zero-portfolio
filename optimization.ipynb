{
 "cells": [
  {
   "cell_type": "code",
   "execution_count": 1,
   "metadata": {},
   "outputs": [],
   "source": [
    "import pandas as pd\n",
    "import matplotlib.pyplot as plt\n",
    "import numpy as np"
   ]
  },
  {
   "cell_type": "code",
   "execution_count": 2,
   "metadata": {},
   "outputs": [],
   "source": [
    "from PortfolioToolboxQP.PortfolioToolboxQP.Qp_Solver import qp_solver_cpp as solve"
   ]
  },
  {
   "cell_type": "markdown",
   "metadata": {},
   "source": [
    "Il faut remplir le code suivant avec ce qu'on a calculé dans les autres fichiers. Faut juste faire attention à ce qu'on est les mêmes colonnes pour tous sinon on va avoir des problèmes de dimensions."
   ]
  },
  {
   "cell_type": "code",
   "execution_count": 3,
   "metadata": {},
   "outputs": [
    {
     "name": "stdout",
     "output_type": "stream",
     "text": [
      "(1131, 1131)\n",
      "(1131, 50)\n",
      "<class 'numpy.ndarray'>\n",
      "<class 'numpy.ndarray'>\n",
      "(1131, 1)\n",
      "(1131, 1)\n"
     ]
    }
   ],
   "source": [
    "sigma = np.load(\"data/cov_matrix_sigma.npy\")\n",
    "print(sigma.shape)\n",
    "CI = pd.read_csv(\"data/CarbonIntensity.csv\")\n",
    "print(CI.shape)\n",
    "CI0 = CI[\"CI_Scope12_FY23\"].values.reshape(-1, 1)\n",
    "print(type(CI0))\n",
    "print(type(sigma))\n",
    "\n",
    "bench = (CI[\"Weight\"].values / CI[\"Weight\"].sum()).reshape(-1, 1)\n",
    "\n",
    "print(bench.shape)\n",
    "print(CI0.shape)\n",
    "R = 0.35  # reduction_rate cf net_zero_emissions for other values"
   ]
  },
  {
   "cell_type": "markdown",
   "metadata": {},
   "source": [
    "J'ai pris le problème le plus simple avec le moins de contrainte (min 1/2(x-b)Tsigma(x-b) avec comme contraintes la carbone intensity, et le bail C0 des long only constraints [x entre 0 et 1 et qui se somme à 1])"
   ]
  },
  {
   "cell_type": "code",
   "execution_count": 4,
   "metadata": {},
   "outputs": [
    {
     "name": "stderr",
     "output_type": "stream",
     "text": [
      "c:\\Users\\vahye\\Desktop\\ENSAE\\projet_finance\\net-zero-portfolio\\PortfolioToolboxQP\\PortfolioToolboxQP\\Qp_Solver.py:137: UserWarning: Warning : The p matrix in the QP problem was set to 0 as it was either empty or None -- Continuing optimization !\n",
      "  warnings.warn(\n",
      "c:\\Users\\vahye\\Desktop\\ENSAE\\projet_finance\\net-zero-portfolio\\PortfolioToolboxQP\\PortfolioToolboxQP\\Qp_Solver.py:189: UserWarning: Warning : b was reshaped as its shape was not of form (n,)\n",
      "  warnings.warn(\"Warning : b was reshaped as its shape was not of form (n,)\")\n",
      "c:\\Users\\vahye\\Desktop\\ENSAE\\projet_finance\\net-zero-portfolio\\PortfolioToolboxQP\\PortfolioToolboxQP\\Qp_Solver.py:202: UserWarning: Warning : h was reshaped as its shape was not of form (n,)\n",
      "  warnings.warn(\"Warning : h was reshaped as its shape was not of form (n,)\")\n"
     ]
    },
    {
     "data": {
      "text/plain": [
       "' x is what we want : here the relative weights on the differents firms. The following Y is what we call \"x-b\". \\n We have to add the benchmark at the end\\n\\n                            minimize 0.5*Y.T@Q@Y + p@Y under constraints AY = B and GY <= h and  lb <= Y <= ub\\n    \\n    all parameters are ndarray\\n\\n    Q: sigma for us\\n    p: 0\\n\\n    CI*(X=Y+b) <= (1-R)CI_0*b donc CI*Y <= (1-R)*CI_0*b - CI*b\\n    G: Matrix of inequalty constraints → np.diag(CI0[:,0])\\n    h: Vector of inequality constraints → (1 - R) * CI0*bench - CI0*bench\\n    1.T(Y+b)=1 donc 1TY = - 1Tb + 1\\n    A: Matrix of equality constraints → 1T\\n    b: Vector of equality constraints → -1Tb + 1\\n    \\n    lb: Lower bound for Y : for x : 0\\n    ub: Upper bound for Y : for x : 1\\n\\n    return: optimal vector if found : Y=X-b\\n    '"
      ]
     },
     "execution_count": 4,
     "metadata": {},
     "output_type": "execute_result"
    }
   ],
   "source": [
    "y = solve(\n",
    "    Q=sigma,\n",
    "    p=None,\n",
    "    G=np.diag(CI0[:,0]),\n",
    "    h=(1 - R) * CI0*bench - CI0*bench,\n",
    "    A= np.ones((bench.shape[0],1)).T,\n",
    "    b=-np.ones(bench.shape).T @ bench + 1,\n",
    "    lb= - bench,\n",
    "    ub=np.ones(bench.shape) - bench,\n",
    ")\n",
    "\n",
    "\"\"\" x is what we want : here the relative weights on the differents firms. The following Y is what we call \"x-b\". \n",
    " We have to add the benchmark at the end\n",
    "\n",
    "                            minimize 0.5*Y.T@Q@Y + p@Y under constraints AY = B and GY <= h and  lb <= Y <= ub\n",
    "    \n",
    "    all parameters are ndarray\n",
    "\n",
    "    Q: sigma for us\n",
    "    p: 0\n",
    "\n",
    "    CI*(X=Y+b) <= (1-R)CI_0*b donc CI*Y <= (1-R)*CI_0*b - CI*b\n",
    "    G: Matrix of inequalty constraints → np.diag(CI0[:,0])\n",
    "    h: Vector of inequality constraints → (1 - R) * CI0*bench - CI0*bench\n",
    "    1.T(Y+b)=1 donc 1TY = - 1Tb + 1\n",
    "    A: Matrix of equality constraints → 1T\n",
    "    b: Vector of equality constraints → -1Tb + 1\n",
    "    \n",
    "    lb: Lower bound for Y : for x : 0\n",
    "    ub: Upper bound for Y : for x : 1\n",
    "\n",
    "    return: optimal vector if found : Y=X-b\n",
    "    \"\"\""
   ]
  },
  {
   "cell_type": "code",
   "execution_count": 5,
   "metadata": {},
   "outputs": [
    {
     "name": "stdout",
     "output_type": "stream",
     "text": [
      "[[0.00067043]\n",
      " [0.00018278]\n",
      " [0.00012406]\n",
      " ...\n",
      " [0.0097468 ]\n",
      " [0.00039805]\n",
      " [0.00044735]]\n",
      "(1131, 1)\n",
      "0.9999999999999999\n",
      "[[2.07044389e-06]]\n"
     ]
    }
   ],
   "source": [
    "y = y[:,np.newaxis]\n",
    "x = y + bench\n",
    "print(x)\n",
    "print(x.shape)\n",
    "print(x.sum())\n",
    "tracking_error = 0.5 * y.T @ sigma @ y\n",
    "print(tracking_error)"
   ]
  },
  {
   "cell_type": "code",
   "execution_count": 6,
   "metadata": {},
   "outputs": [
    {
     "name": "stdout",
     "output_type": "stream",
     "text": [
      "CI_Scope12_FY23\n"
     ]
    },
    {
     "name": "stderr",
     "output_type": "stream",
     "text": [
      "c:\\Users\\vahye\\Desktop\\ENSAE\\projet_finance\\net-zero-portfolio\\PortfolioToolboxQP\\PortfolioToolboxQP\\Qp_Solver.py:137: UserWarning: Warning : The p matrix in the QP problem was set to 0 as it was either empty or None -- Continuing optimization !\n",
      "  warnings.warn(\n",
      "c:\\Users\\vahye\\Desktop\\ENSAE\\projet_finance\\net-zero-portfolio\\PortfolioToolboxQP\\PortfolioToolboxQP\\Qp_Solver.py:189: UserWarning: Warning : b was reshaped as its shape was not of form (n,)\n",
      "  warnings.warn(\"Warning : b was reshaped as its shape was not of form (n,)\")\n",
      "c:\\Users\\vahye\\Desktop\\ENSAE\\projet_finance\\net-zero-portfolio\\PortfolioToolboxQP\\PortfolioToolboxQP\\Qp_Solver.py:202: UserWarning: Warning : h was reshaped as its shape was not of form (n,)\n",
      "  warnings.warn(\"Warning : h was reshaped as its shape was not of form (n,)\")\n"
     ]
    },
    {
     "name": "stdout",
     "output_type": "stream",
     "text": [
      "0.9999999999999999\n",
      "CI_Scope12_FY24\n",
      "Valeur d'échec : 2\n"
     ]
    },
    {
     "ename": "ValueError",
     "evalue": "Accuracy insufficient to satisfy convergence criterion",
     "output_type": "error",
     "traceback": [
      "\u001b[1;31m---------------------------------------------------------------------------\u001b[0m",
      "\u001b[1;31mValueError\u001b[0m                                Traceback (most recent call last)",
      "Cell \u001b[1;32mIn[6], line 11\u001b[0m\n\u001b[0;32m      9\u001b[0m \u001b[38;5;28mprint\u001b[39m(column)\n\u001b[0;32m     10\u001b[0m CI_year \u001b[38;5;241m=\u001b[39m CI[column]\u001b[38;5;241m.\u001b[39mvalues\u001b[38;5;241m.\u001b[39mreshape(\u001b[38;5;241m-\u001b[39m\u001b[38;5;241m1\u001b[39m, \u001b[38;5;241m1\u001b[39m)\n\u001b[1;32m---> 11\u001b[0m y \u001b[38;5;241m=\u001b[39m \u001b[43msolve\u001b[49m\u001b[43m(\u001b[49m\n\u001b[0;32m     12\u001b[0m \u001b[43m    \u001b[49m\u001b[43mQ\u001b[49m\u001b[43m \u001b[49m\u001b[38;5;241;43m=\u001b[39;49m\u001b[43m \u001b[49m\u001b[43msigma\u001b[49m\u001b[43m,\u001b[49m\n\u001b[0;32m     13\u001b[0m \u001b[43m    \u001b[49m\u001b[43mp\u001b[49m\u001b[43m \u001b[49m\u001b[38;5;241;43m=\u001b[39;49m\u001b[43m \u001b[49m\u001b[38;5;28;43;01mNone\u001b[39;49;00m\u001b[43m,\u001b[49m\n\u001b[0;32m     14\u001b[0m \u001b[43m    \u001b[49m\u001b[43mG\u001b[49m\u001b[43m \u001b[49m\u001b[38;5;241;43m=\u001b[39;49m\u001b[43m \u001b[49m\u001b[43mnp\u001b[49m\u001b[38;5;241;43m.\u001b[39;49m\u001b[43mdiag\u001b[49m\u001b[43m(\u001b[49m\u001b[43mCI_year\u001b[49m\u001b[43m[\u001b[49m\u001b[43m:\u001b[49m\u001b[43m,\u001b[49m\u001b[38;5;241;43m0\u001b[39;49m\u001b[43m]\u001b[49m\u001b[43m)\u001b[49m\u001b[43m,\u001b[49m\n\u001b[0;32m     15\u001b[0m \u001b[43m    \u001b[49m\u001b[43mh\u001b[49m\u001b[43m \u001b[49m\u001b[38;5;241;43m=\u001b[39;49m\u001b[43m \u001b[49m\u001b[43m(\u001b[49m\u001b[38;5;241;43m1\u001b[39;49m\u001b[43m \u001b[49m\u001b[38;5;241;43m-\u001b[39;49m\u001b[43m \u001b[49m\u001b[43mR\u001b[49m\u001b[43m)\u001b[49m\u001b[43m \u001b[49m\u001b[38;5;241;43m*\u001b[39;49m\u001b[43m \u001b[49m\u001b[43mCI0\u001b[49m\u001b[43m \u001b[49m\u001b[38;5;241;43m*\u001b[39;49m\u001b[43m \u001b[49m\u001b[43mbench\u001b[49m\u001b[43m \u001b[49m\u001b[38;5;241;43m-\u001b[39;49m\u001b[43m \u001b[49m\u001b[43mCI_year\u001b[49m\u001b[43m \u001b[49m\u001b[38;5;241;43m*\u001b[39;49m\u001b[43m \u001b[49m\u001b[43mbench\u001b[49m\u001b[43m,\u001b[49m\n\u001b[0;32m     16\u001b[0m \u001b[43m    \u001b[49m\u001b[43mA\u001b[49m\u001b[43m \u001b[49m\u001b[38;5;241;43m=\u001b[39;49m\u001b[43m \u001b[49m\u001b[43mnp\u001b[49m\u001b[38;5;241;43m.\u001b[39;49m\u001b[43mones\u001b[49m\u001b[43m(\u001b[49m\u001b[43m(\u001b[49m\u001b[43mbench\u001b[49m\u001b[38;5;241;43m.\u001b[39;49m\u001b[43mshape\u001b[49m\u001b[43m[\u001b[49m\u001b[38;5;241;43m0\u001b[39;49m\u001b[43m]\u001b[49m\u001b[43m,\u001b[49m\u001b[38;5;241;43m1\u001b[39;49m\u001b[43m)\u001b[49m\u001b[43m)\u001b[49m\u001b[38;5;241;43m.\u001b[39;49m\u001b[43mT\u001b[49m\u001b[43m,\u001b[49m\n\u001b[0;32m     17\u001b[0m \u001b[43m    \u001b[49m\u001b[43mb\u001b[49m\u001b[43m \u001b[49m\u001b[38;5;241;43m=\u001b[39;49m\u001b[38;5;241;43m-\u001b[39;49m\u001b[43mnp\u001b[49m\u001b[38;5;241;43m.\u001b[39;49m\u001b[43mones\u001b[49m\u001b[43m(\u001b[49m\u001b[43mbench\u001b[49m\u001b[38;5;241;43m.\u001b[39;49m\u001b[43mshape\u001b[49m\u001b[43m)\u001b[49m\u001b[38;5;241;43m.\u001b[39;49m\u001b[43mT\u001b[49m\u001b[43m \u001b[49m\u001b[38;5;241;43m@\u001b[39;49m\u001b[43m \u001b[49m\u001b[43mbench\u001b[49m\u001b[43m \u001b[49m\u001b[38;5;241;43m+\u001b[39;49m\u001b[43m \u001b[49m\u001b[38;5;241;43m1\u001b[39;49m\u001b[43m,\u001b[49m\n\u001b[0;32m     18\u001b[0m \u001b[43m    \u001b[49m\u001b[43mlb\u001b[49m\u001b[43m \u001b[49m\u001b[38;5;241;43m=\u001b[39;49m\u001b[43m \u001b[49m\u001b[38;5;241;43m-\u001b[39;49m\u001b[43m \u001b[49m\u001b[43mbench\u001b[49m\u001b[43m,\u001b[49m\n\u001b[0;32m     19\u001b[0m \u001b[43m    \u001b[49m\u001b[43mub\u001b[49m\u001b[43m \u001b[49m\u001b[38;5;241;43m=\u001b[39;49m\u001b[43mnp\u001b[49m\u001b[38;5;241;43m.\u001b[39;49m\u001b[43mones\u001b[49m\u001b[43m(\u001b[49m\u001b[43mbench\u001b[49m\u001b[38;5;241;43m.\u001b[39;49m\u001b[43mshape\u001b[49m\u001b[43m)\u001b[49m\u001b[43m \u001b[49m\u001b[38;5;241;43m-\u001b[39;49m\u001b[43m \u001b[49m\u001b[43mbench\u001b[49m\u001b[43m,\u001b[49m\n\u001b[0;32m     20\u001b[0m \u001b[43m\u001b[49m\u001b[43m)\u001b[49m\n\u001b[0;32m     21\u001b[0m y \u001b[38;5;241m=\u001b[39m y[:,np\u001b[38;5;241m.\u001b[39mnewaxis]\n\u001b[0;32m     22\u001b[0m x \u001b[38;5;241m=\u001b[39m y \u001b[38;5;241m+\u001b[39m bench\n",
      "File \u001b[1;32mc:\\Users\\vahye\\Desktop\\ENSAE\\projet_finance\\net-zero-portfolio\\PortfolioToolboxQP\\PortfolioToolboxQP\\Qp_Solver.py:273\u001b[0m, in \u001b[0;36mqp_solver_cpp\u001b[1;34m(Q, p, G, h, A, b, lb, ub)\u001b[0m\n\u001b[0;32m    269\u001b[0m     \u001b[38;5;28;01mraise\u001b[39;00m \u001b[38;5;167;01mStopIteration\u001b[39;00m(\n\u001b[0;32m    270\u001b[0m         \u001b[38;5;124m\"\u001b[39m\u001b[38;5;124mToo Many Iterations (more than 40 * (nb_var + nb_constraints))\u001b[39m\u001b[38;5;124m\"\u001b[39m\n\u001b[0;32m    271\u001b[0m     )\n\u001b[0;32m    272\u001b[0m \u001b[38;5;28;01mif\u001b[39;00m ifail_val \u001b[38;5;241m==\u001b[39m \u001b[38;5;241m2\u001b[39m:\n\u001b[1;32m--> 273\u001b[0m     \u001b[38;5;28;01mraise\u001b[39;00m \u001b[38;5;167;01mValueError\u001b[39;00m(\u001b[38;5;124m\"\u001b[39m\u001b[38;5;124mAccuracy insufficient to satisfy convergence criterion\u001b[39m\u001b[38;5;124m\"\u001b[39m)\n\u001b[0;32m    274\u001b[0m \u001b[38;5;28;01mif\u001b[39;00m ifail_val \u001b[38;5;241m==\u001b[39m \u001b[38;5;241m5\u001b[39m:\n\u001b[0;32m    275\u001b[0m     \u001b[38;5;28;01mraise\u001b[39;00m \u001b[38;5;167;01mValueError\u001b[39;00m(\u001b[38;5;124m\"\u001b[39m\u001b[38;5;124mThe length of a working array is too short\u001b[39m\u001b[38;5;124m\"\u001b[39m)\n",
      "\u001b[1;31mValueError\u001b[0m: Accuracy insufficient to satisfy convergence criterion"
     ]
    }
   ],
   "source": [
    "x_list = []\n",
    "te = []\n",
    "R_ = [0.35,0.35,0.35,0.35]\n",
    "\n",
    "for year in range(3):\n",
    "    R = R_[year]\n",
    "    ye = 23+year\n",
    "    column = \"CI_Scope12_FY\"+str(ye)\n",
    "    print(column)\n",
    "    CI_year = CI[column].values.reshape(-1, 1)\n",
    "    y = solve(\n",
    "        Q = sigma,\n",
    "        p = None,\n",
    "        G = np.diag(CI_year[:,0]),\n",
    "        h = (1 - R) * CI0 * bench - CI_year * bench,\n",
    "        A = np.ones((bench.shape[0],1)).T,\n",
    "        b =-np.ones(bench.shape).T @ bench + 1,\n",
    "        lb = - bench,\n",
    "        ub =np.ones(bench.shape) - bench,\n",
    "    )\n",
    "    y = y[:,np.newaxis]\n",
    "    x = y + bench\n",
    "    x_list.append(x)\n",
    "    print(x.sum())\n",
    "    tracking_error = 0.5 * y.T @ sigma @ y\n",
    "    te.append(tracking_error)\n",
    "\n",
    "    "
   ]
  }
 ],
 "metadata": {
  "kernelspec": {
   "display_name": "Python 3",
   "language": "python",
   "name": "python3"
  },
  "language_info": {
   "codemirror_mode": {
    "name": "ipython",
    "version": 3
   },
   "file_extension": ".py",
   "mimetype": "text/x-python",
   "name": "python",
   "nbconvert_exporter": "python",
   "pygments_lexer": "ipython3",
   "version": "3.10.0"
  }
 },
 "nbformat": 4,
 "nbformat_minor": 2
}
